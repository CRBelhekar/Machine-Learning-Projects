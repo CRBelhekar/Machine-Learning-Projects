{
 "cells": [
  {
   "cell_type": "markdown",
   "metadata": {},
   "source": [
    "# German Credit Risk Classification using Tree based Algorithms"
   ]
  },
  {
   "cell_type": "markdown",
   "metadata": {},
   "source": [
    "## Context"
   ]
  },
  {
   "cell_type": "markdown",
   "metadata": {},
   "source": [
    "The dataset contains 1000 entries with 62 features prepared by Professor Dr. Hans Hofmann of the University of Hamburg, and is publicly available at the UCI Machine Learning Repository\n",
    "\n",
    "This dataset has two classes to describe the worthiness of a personal loan: **\"Good\"** or **\"Bad\"**. There are features related to attributes, such as: checking account status, duration, credit history, purpose of the loan, amount of the loan, savings accounts or bonds, employment duration, installment rate in percentage of disposable income, personal information, other debtors/guarantors, residence duration, property, age, other installment plans, housing, number of existing credits, job information, number of people being liable to provide maintenance for, telephone, and foreign worker status.\n",
    "\n",
    "Many of these features are discrete and have been expanded into several 0/1 indicator variables (a.k.a. they have been one-hot-encoded)."
   ]
  },
  {
   "cell_type": "markdown",
   "metadata": {},
   "source": [
    "### We will be using decision trees to classify the loans into good or bad category"
   ]
  },
  {
   "cell_type": "code",
   "execution_count": 1,
   "metadata": {},
   "outputs": [],
   "source": [
    "# Importing required libraries\n",
    "\n",
    "import pandas as pd\n",
    "import numpy as np\n",
    "import matplotlib.pyplot as plt\n",
    "import seaborn as sns\n",
    "from time import time\n",
    "import random \n",
    "from sklearn.tree import DecisionTreeClassifier\n",
    "from sklearn.metrics import classification_report\n",
    "from sklearn.metrics import confusion_matrix\n",
    "from sklearn.model_selection import train_test_split\n",
    "from sklearn.model_selection import GridSearchCV\n",
    "from sklearn.model_selection import RandomizedSearchCV\n",
    "from sklearn.model_selection import KFold\n",
    "from sklearn import metrics\n",
    "from sklearn.metrics import make_scorer\n",
    "from sklearn.metrics import roc_curve, auc\n",
    "\n",
    "%matplotlib inline"
   ]
  },
  {
   "cell_type": "code",
   "execution_count": 4,
   "metadata": {},
   "outputs": [
    {
     "data": {
      "text/html": [
       "<div>\n",
       "<style scoped>\n",
       "    .dataframe tbody tr th:only-of-type {\n",
       "        vertical-align: middle;\n",
       "    }\n",
       "\n",
       "    .dataframe tbody tr th {\n",
       "        vertical-align: top;\n",
       "    }\n",
       "\n",
       "    .dataframe thead th {\n",
       "        text-align: right;\n",
       "    }\n",
       "</style>\n",
       "<table border=\"1\" class=\"dataframe\">\n",
       "  <thead>\n",
       "    <tr style=\"text-align: right;\">\n",
       "      <th></th>\n",
       "      <th>Duration</th>\n",
       "      <th>Amount</th>\n",
       "      <th>InstallmentRatePercentage</th>\n",
       "      <th>ResidenceDuration</th>\n",
       "      <th>Age</th>\n",
       "      <th>NumberExistingCredits</th>\n",
       "      <th>NumberPeopleMaintenance</th>\n",
       "      <th>Telephone</th>\n",
       "      <th>ForeignWorker</th>\n",
       "      <th>Class</th>\n",
       "      <th>...</th>\n",
       "      <th>OtherInstallmentPlans.Bank</th>\n",
       "      <th>OtherInstallmentPlans.Stores</th>\n",
       "      <th>OtherInstallmentPlans.None</th>\n",
       "      <th>Housing.Rent</th>\n",
       "      <th>Housing.Own</th>\n",
       "      <th>Housing.ForFree</th>\n",
       "      <th>Job.UnemployedUnskilled</th>\n",
       "      <th>Job.UnskilledResident</th>\n",
       "      <th>Job.SkilledEmployee</th>\n",
       "      <th>Job.Management.SelfEmp.HighlyQualified</th>\n",
       "    </tr>\n",
       "  </thead>\n",
       "  <tbody>\n",
       "    <tr>\n",
       "      <th>0</th>\n",
       "      <td>6</td>\n",
       "      <td>1169</td>\n",
       "      <td>4</td>\n",
       "      <td>4</td>\n",
       "      <td>67</td>\n",
       "      <td>2</td>\n",
       "      <td>1</td>\n",
       "      <td>0</td>\n",
       "      <td>1</td>\n",
       "      <td>Good</td>\n",
       "      <td>...</td>\n",
       "      <td>0</td>\n",
       "      <td>0</td>\n",
       "      <td>1</td>\n",
       "      <td>0</td>\n",
       "      <td>1</td>\n",
       "      <td>0</td>\n",
       "      <td>0</td>\n",
       "      <td>0</td>\n",
       "      <td>1</td>\n",
       "      <td>0</td>\n",
       "    </tr>\n",
       "    <tr>\n",
       "      <th>1</th>\n",
       "      <td>48</td>\n",
       "      <td>5951</td>\n",
       "      <td>2</td>\n",
       "      <td>2</td>\n",
       "      <td>22</td>\n",
       "      <td>1</td>\n",
       "      <td>1</td>\n",
       "      <td>1</td>\n",
       "      <td>1</td>\n",
       "      <td>Bad</td>\n",
       "      <td>...</td>\n",
       "      <td>0</td>\n",
       "      <td>0</td>\n",
       "      <td>1</td>\n",
       "      <td>0</td>\n",
       "      <td>1</td>\n",
       "      <td>0</td>\n",
       "      <td>0</td>\n",
       "      <td>0</td>\n",
       "      <td>1</td>\n",
       "      <td>0</td>\n",
       "    </tr>\n",
       "    <tr>\n",
       "      <th>2</th>\n",
       "      <td>12</td>\n",
       "      <td>2096</td>\n",
       "      <td>2</td>\n",
       "      <td>3</td>\n",
       "      <td>49</td>\n",
       "      <td>1</td>\n",
       "      <td>2</td>\n",
       "      <td>1</td>\n",
       "      <td>1</td>\n",
       "      <td>Good</td>\n",
       "      <td>...</td>\n",
       "      <td>0</td>\n",
       "      <td>0</td>\n",
       "      <td>1</td>\n",
       "      <td>0</td>\n",
       "      <td>1</td>\n",
       "      <td>0</td>\n",
       "      <td>0</td>\n",
       "      <td>1</td>\n",
       "      <td>0</td>\n",
       "      <td>0</td>\n",
       "    </tr>\n",
       "    <tr>\n",
       "      <th>3</th>\n",
       "      <td>42</td>\n",
       "      <td>7882</td>\n",
       "      <td>2</td>\n",
       "      <td>4</td>\n",
       "      <td>45</td>\n",
       "      <td>1</td>\n",
       "      <td>2</td>\n",
       "      <td>1</td>\n",
       "      <td>1</td>\n",
       "      <td>Good</td>\n",
       "      <td>...</td>\n",
       "      <td>0</td>\n",
       "      <td>0</td>\n",
       "      <td>1</td>\n",
       "      <td>0</td>\n",
       "      <td>0</td>\n",
       "      <td>1</td>\n",
       "      <td>0</td>\n",
       "      <td>0</td>\n",
       "      <td>1</td>\n",
       "      <td>0</td>\n",
       "    </tr>\n",
       "    <tr>\n",
       "      <th>4</th>\n",
       "      <td>24</td>\n",
       "      <td>4870</td>\n",
       "      <td>3</td>\n",
       "      <td>4</td>\n",
       "      <td>53</td>\n",
       "      <td>2</td>\n",
       "      <td>2</td>\n",
       "      <td>1</td>\n",
       "      <td>1</td>\n",
       "      <td>Bad</td>\n",
       "      <td>...</td>\n",
       "      <td>0</td>\n",
       "      <td>0</td>\n",
       "      <td>1</td>\n",
       "      <td>0</td>\n",
       "      <td>0</td>\n",
       "      <td>1</td>\n",
       "      <td>0</td>\n",
       "      <td>0</td>\n",
       "      <td>1</td>\n",
       "      <td>0</td>\n",
       "    </tr>\n",
       "  </tbody>\n",
       "</table>\n",
       "<p>5 rows × 62 columns</p>\n",
       "</div>"
      ],
      "text/plain": [
       "   Duration  Amount  InstallmentRatePercentage  ResidenceDuration  Age  \\\n",
       "0         6    1169                          4                  4   67   \n",
       "1        48    5951                          2                  2   22   \n",
       "2        12    2096                          2                  3   49   \n",
       "3        42    7882                          2                  4   45   \n",
       "4        24    4870                          3                  4   53   \n",
       "\n",
       "   NumberExistingCredits  NumberPeopleMaintenance  Telephone  ForeignWorker  \\\n",
       "0                      2                        1          0              1   \n",
       "1                      1                        1          1              1   \n",
       "2                      1                        2          1              1   \n",
       "3                      1                        2          1              1   \n",
       "4                      2                        2          1              1   \n",
       "\n",
       "  Class  ...  OtherInstallmentPlans.Bank  OtherInstallmentPlans.Stores  \\\n",
       "0  Good  ...                           0                             0   \n",
       "1   Bad  ...                           0                             0   \n",
       "2  Good  ...                           0                             0   \n",
       "3  Good  ...                           0                             0   \n",
       "4   Bad  ...                           0                             0   \n",
       "\n",
       "   OtherInstallmentPlans.None  Housing.Rent  Housing.Own  Housing.ForFree  \\\n",
       "0                           1             0            1                0   \n",
       "1                           1             0            1                0   \n",
       "2                           1             0            1                0   \n",
       "3                           1             0            0                1   \n",
       "4                           1             0            0                1   \n",
       "\n",
       "   Job.UnemployedUnskilled  Job.UnskilledResident  Job.SkilledEmployee  \\\n",
       "0                        0                      0                    1   \n",
       "1                        0                      0                    1   \n",
       "2                        0                      1                    0   \n",
       "3                        0                      0                    1   \n",
       "4                        0                      0                    1   \n",
       "\n",
       "   Job.Management.SelfEmp.HighlyQualified  \n",
       "0                                       0  \n",
       "1                                       0  \n",
       "2                                       0  \n",
       "3                                       0  \n",
       "4                                       0  \n",
       "\n",
       "[5 rows x 62 columns]"
      ]
     },
     "execution_count": 4,
     "metadata": {},
     "output_type": "execute_result"
    }
   ],
   "source": [
    "credit = pd.read_csv(\"./datasets/GermanCredit.csv\")\n",
    "credit.head()"
   ]
  },
  {
   "cell_type": "code",
   "execution_count": 5,
   "metadata": {},
   "outputs": [
    {
     "name": "stdout",
     "output_type": "stream",
     "text": [
      "<class 'pandas.core.frame.DataFrame'>\n",
      "RangeIndex: 1000 entries, 0 to 999\n",
      "Data columns (total 62 columns):\n",
      " #   Column                                  Non-Null Count  Dtype \n",
      "---  ------                                  --------------  ----- \n",
      " 0   Duration                                1000 non-null   int64 \n",
      " 1   Amount                                  1000 non-null   int64 \n",
      " 2   InstallmentRatePercentage               1000 non-null   int64 \n",
      " 3   ResidenceDuration                       1000 non-null   int64 \n",
      " 4   Age                                     1000 non-null   int64 \n",
      " 5   NumberExistingCredits                   1000 non-null   int64 \n",
      " 6   NumberPeopleMaintenance                 1000 non-null   int64 \n",
      " 7   Telephone                               1000 non-null   int64 \n",
      " 8   ForeignWorker                           1000 non-null   int64 \n",
      " 9   Class                                   1000 non-null   object\n",
      " 10  CheckingAccountStatus.lt.0              1000 non-null   int64 \n",
      " 11  CheckingAccountStatus.0.to.200          1000 non-null   int64 \n",
      " 12  CheckingAccountStatus.gt.200            1000 non-null   int64 \n",
      " 13  CheckingAccountStatus.none              1000 non-null   int64 \n",
      " 14  CreditHistory.NoCredit.AllPaid          1000 non-null   int64 \n",
      " 15  CreditHistory.ThisBank.AllPaid          1000 non-null   int64 \n",
      " 16  CreditHistory.PaidDuly                  1000 non-null   int64 \n",
      " 17  CreditHistory.Delay                     1000 non-null   int64 \n",
      " 18  CreditHistory.Critical                  1000 non-null   int64 \n",
      " 19  Purpose.NewCar                          1000 non-null   int64 \n",
      " 20  Purpose.UsedCar                         1000 non-null   int64 \n",
      " 21  Purpose.Furniture.Equipment             1000 non-null   int64 \n",
      " 22  Purpose.Radio.Television                1000 non-null   int64 \n",
      " 23  Purpose.DomesticAppliance               1000 non-null   int64 \n",
      " 24  Purpose.Repairs                         1000 non-null   int64 \n",
      " 25  Purpose.Education                       1000 non-null   int64 \n",
      " 26  Purpose.Vacation                        1000 non-null   int64 \n",
      " 27  Purpose.Retraining                      1000 non-null   int64 \n",
      " 28  Purpose.Business                        1000 non-null   int64 \n",
      " 29  Purpose.Other                           1000 non-null   int64 \n",
      " 30  SavingsAccountBonds.lt.100              1000 non-null   int64 \n",
      " 31  SavingsAccountBonds.100.to.500          1000 non-null   int64 \n",
      " 32  SavingsAccountBonds.500.to.1000         1000 non-null   int64 \n",
      " 33  SavingsAccountBonds.gt.1000             1000 non-null   int64 \n",
      " 34  SavingsAccountBonds.Unknown             1000 non-null   int64 \n",
      " 35  EmploymentDuration.lt.1                 1000 non-null   int64 \n",
      " 36  EmploymentDuration.1.to.4               1000 non-null   int64 \n",
      " 37  EmploymentDuration.4.to.7               1000 non-null   int64 \n",
      " 38  EmploymentDuration.gt.7                 1000 non-null   int64 \n",
      " 39  EmploymentDuration.Unemployed           1000 non-null   int64 \n",
      " 40  Personal.Male.Divorced.Seperated        1000 non-null   int64 \n",
      " 41  Personal.Female.NotSingle               1000 non-null   int64 \n",
      " 42  Personal.Male.Single                    1000 non-null   int64 \n",
      " 43  Personal.Male.Married.Widowed           1000 non-null   int64 \n",
      " 44  Personal.Female.Single                  1000 non-null   int64 \n",
      " 45  OtherDebtorsGuarantors.None             1000 non-null   int64 \n",
      " 46  OtherDebtorsGuarantors.CoApplicant      1000 non-null   int64 \n",
      " 47  OtherDebtorsGuarantors.Guarantor        1000 non-null   int64 \n",
      " 48  Property.RealEstate                     1000 non-null   int64 \n",
      " 49  Property.Insurance                      1000 non-null   int64 \n",
      " 50  Property.CarOther                       1000 non-null   int64 \n",
      " 51  Property.Unknown                        1000 non-null   int64 \n",
      " 52  OtherInstallmentPlans.Bank              1000 non-null   int64 \n",
      " 53  OtherInstallmentPlans.Stores            1000 non-null   int64 \n",
      " 54  OtherInstallmentPlans.None              1000 non-null   int64 \n",
      " 55  Housing.Rent                            1000 non-null   int64 \n",
      " 56  Housing.Own                             1000 non-null   int64 \n",
      " 57  Housing.ForFree                         1000 non-null   int64 \n",
      " 58  Job.UnemployedUnskilled                 1000 non-null   int64 \n",
      " 59  Job.UnskilledResident                   1000 non-null   int64 \n",
      " 60  Job.SkilledEmployee                     1000 non-null   int64 \n",
      " 61  Job.Management.SelfEmp.HighlyQualified  1000 non-null   int64 \n",
      "dtypes: int64(61), object(1)\n",
      "memory usage: 484.5+ KB\n"
     ]
    }
   ],
   "source": [
    "credit.info()"
   ]
  },
  {
   "cell_type": "code",
   "execution_count": 6,
   "metadata": {},
   "outputs": [
    {
     "data": {
      "text/html": [
       "<div>\n",
       "<style scoped>\n",
       "    .dataframe tbody tr th:only-of-type {\n",
       "        vertical-align: middle;\n",
       "    }\n",
       "\n",
       "    .dataframe tbody tr th {\n",
       "        vertical-align: top;\n",
       "    }\n",
       "\n",
       "    .dataframe thead th {\n",
       "        text-align: right;\n",
       "    }\n",
       "</style>\n",
       "<table border=\"1\" class=\"dataframe\">\n",
       "  <thead>\n",
       "    <tr style=\"text-align: right;\">\n",
       "      <th></th>\n",
       "      <th>Duration</th>\n",
       "      <th>Amount</th>\n",
       "      <th>InstallmentRatePercentage</th>\n",
       "      <th>ResidenceDuration</th>\n",
       "      <th>Age</th>\n",
       "      <th>NumberExistingCredits</th>\n",
       "      <th>NumberPeopleMaintenance</th>\n",
       "      <th>Telephone</th>\n",
       "      <th>ForeignWorker</th>\n",
       "      <th>CheckingAccountStatus.lt.0</th>\n",
       "      <th>...</th>\n",
       "      <th>OtherInstallmentPlans.Bank</th>\n",
       "      <th>OtherInstallmentPlans.Stores</th>\n",
       "      <th>OtherInstallmentPlans.None</th>\n",
       "      <th>Housing.Rent</th>\n",
       "      <th>Housing.Own</th>\n",
       "      <th>Housing.ForFree</th>\n",
       "      <th>Job.UnemployedUnskilled</th>\n",
       "      <th>Job.UnskilledResident</th>\n",
       "      <th>Job.SkilledEmployee</th>\n",
       "      <th>Job.Management.SelfEmp.HighlyQualified</th>\n",
       "    </tr>\n",
       "  </thead>\n",
       "  <tbody>\n",
       "    <tr>\n",
       "      <th>count</th>\n",
       "      <td>1000.000000</td>\n",
       "      <td>1000.000000</td>\n",
       "      <td>1000.000000</td>\n",
       "      <td>1000.000000</td>\n",
       "      <td>1000.000000</td>\n",
       "      <td>1000.000000</td>\n",
       "      <td>1000.000000</td>\n",
       "      <td>1000.000000</td>\n",
       "      <td>1000.000000</td>\n",
       "      <td>1000.000000</td>\n",
       "      <td>...</td>\n",
       "      <td>1000.00000</td>\n",
       "      <td>1000.000000</td>\n",
       "      <td>1000.000000</td>\n",
       "      <td>1000.000000</td>\n",
       "      <td>1000.000000</td>\n",
       "      <td>1000.000000</td>\n",
       "      <td>1000.000000</td>\n",
       "      <td>1000.0000</td>\n",
       "      <td>1000.000000</td>\n",
       "      <td>1000.000000</td>\n",
       "    </tr>\n",
       "    <tr>\n",
       "      <th>mean</th>\n",
       "      <td>20.903000</td>\n",
       "      <td>3271.258000</td>\n",
       "      <td>2.973000</td>\n",
       "      <td>2.845000</td>\n",
       "      <td>35.546000</td>\n",
       "      <td>1.407000</td>\n",
       "      <td>1.155000</td>\n",
       "      <td>0.596000</td>\n",
       "      <td>0.963000</td>\n",
       "      <td>0.274000</td>\n",
       "      <td>...</td>\n",
       "      <td>0.13900</td>\n",
       "      <td>0.047000</td>\n",
       "      <td>0.814000</td>\n",
       "      <td>0.179000</td>\n",
       "      <td>0.713000</td>\n",
       "      <td>0.108000</td>\n",
       "      <td>0.022000</td>\n",
       "      <td>0.2000</td>\n",
       "      <td>0.630000</td>\n",
       "      <td>0.148000</td>\n",
       "    </tr>\n",
       "    <tr>\n",
       "      <th>std</th>\n",
       "      <td>12.058814</td>\n",
       "      <td>2822.736876</td>\n",
       "      <td>1.118715</td>\n",
       "      <td>1.103718</td>\n",
       "      <td>11.375469</td>\n",
       "      <td>0.577654</td>\n",
       "      <td>0.362086</td>\n",
       "      <td>0.490943</td>\n",
       "      <td>0.188856</td>\n",
       "      <td>0.446232</td>\n",
       "      <td>...</td>\n",
       "      <td>0.34612</td>\n",
       "      <td>0.211745</td>\n",
       "      <td>0.389301</td>\n",
       "      <td>0.383544</td>\n",
       "      <td>0.452588</td>\n",
       "      <td>0.310536</td>\n",
       "      <td>0.146757</td>\n",
       "      <td>0.4002</td>\n",
       "      <td>0.483046</td>\n",
       "      <td>0.355278</td>\n",
       "    </tr>\n",
       "    <tr>\n",
       "      <th>min</th>\n",
       "      <td>4.000000</td>\n",
       "      <td>250.000000</td>\n",
       "      <td>1.000000</td>\n",
       "      <td>1.000000</td>\n",
       "      <td>19.000000</td>\n",
       "      <td>1.000000</td>\n",
       "      <td>1.000000</td>\n",
       "      <td>0.000000</td>\n",
       "      <td>0.000000</td>\n",
       "      <td>0.000000</td>\n",
       "      <td>...</td>\n",
       "      <td>0.00000</td>\n",
       "      <td>0.000000</td>\n",
       "      <td>0.000000</td>\n",
       "      <td>0.000000</td>\n",
       "      <td>0.000000</td>\n",
       "      <td>0.000000</td>\n",
       "      <td>0.000000</td>\n",
       "      <td>0.0000</td>\n",
       "      <td>0.000000</td>\n",
       "      <td>0.000000</td>\n",
       "    </tr>\n",
       "    <tr>\n",
       "      <th>25%</th>\n",
       "      <td>12.000000</td>\n",
       "      <td>1365.500000</td>\n",
       "      <td>2.000000</td>\n",
       "      <td>2.000000</td>\n",
       "      <td>27.000000</td>\n",
       "      <td>1.000000</td>\n",
       "      <td>1.000000</td>\n",
       "      <td>0.000000</td>\n",
       "      <td>1.000000</td>\n",
       "      <td>0.000000</td>\n",
       "      <td>...</td>\n",
       "      <td>0.00000</td>\n",
       "      <td>0.000000</td>\n",
       "      <td>1.000000</td>\n",
       "      <td>0.000000</td>\n",
       "      <td>0.000000</td>\n",
       "      <td>0.000000</td>\n",
       "      <td>0.000000</td>\n",
       "      <td>0.0000</td>\n",
       "      <td>0.000000</td>\n",
       "      <td>0.000000</td>\n",
       "    </tr>\n",
       "    <tr>\n",
       "      <th>50%</th>\n",
       "      <td>18.000000</td>\n",
       "      <td>2319.500000</td>\n",
       "      <td>3.000000</td>\n",
       "      <td>3.000000</td>\n",
       "      <td>33.000000</td>\n",
       "      <td>1.000000</td>\n",
       "      <td>1.000000</td>\n",
       "      <td>1.000000</td>\n",
       "      <td>1.000000</td>\n",
       "      <td>0.000000</td>\n",
       "      <td>...</td>\n",
       "      <td>0.00000</td>\n",
       "      <td>0.000000</td>\n",
       "      <td>1.000000</td>\n",
       "      <td>0.000000</td>\n",
       "      <td>1.000000</td>\n",
       "      <td>0.000000</td>\n",
       "      <td>0.000000</td>\n",
       "      <td>0.0000</td>\n",
       "      <td>1.000000</td>\n",
       "      <td>0.000000</td>\n",
       "    </tr>\n",
       "    <tr>\n",
       "      <th>75%</th>\n",
       "      <td>24.000000</td>\n",
       "      <td>3972.250000</td>\n",
       "      <td>4.000000</td>\n",
       "      <td>4.000000</td>\n",
       "      <td>42.000000</td>\n",
       "      <td>2.000000</td>\n",
       "      <td>1.000000</td>\n",
       "      <td>1.000000</td>\n",
       "      <td>1.000000</td>\n",
       "      <td>1.000000</td>\n",
       "      <td>...</td>\n",
       "      <td>0.00000</td>\n",
       "      <td>0.000000</td>\n",
       "      <td>1.000000</td>\n",
       "      <td>0.000000</td>\n",
       "      <td>1.000000</td>\n",
       "      <td>0.000000</td>\n",
       "      <td>0.000000</td>\n",
       "      <td>0.0000</td>\n",
       "      <td>1.000000</td>\n",
       "      <td>0.000000</td>\n",
       "    </tr>\n",
       "    <tr>\n",
       "      <th>max</th>\n",
       "      <td>72.000000</td>\n",
       "      <td>18424.000000</td>\n",
       "      <td>4.000000</td>\n",
       "      <td>4.000000</td>\n",
       "      <td>75.000000</td>\n",
       "      <td>4.000000</td>\n",
       "      <td>2.000000</td>\n",
       "      <td>1.000000</td>\n",
       "      <td>1.000000</td>\n",
       "      <td>1.000000</td>\n",
       "      <td>...</td>\n",
       "      <td>1.00000</td>\n",
       "      <td>1.000000</td>\n",
       "      <td>1.000000</td>\n",
       "      <td>1.000000</td>\n",
       "      <td>1.000000</td>\n",
       "      <td>1.000000</td>\n",
       "      <td>1.000000</td>\n",
       "      <td>1.0000</td>\n",
       "      <td>1.000000</td>\n",
       "      <td>1.000000</td>\n",
       "    </tr>\n",
       "  </tbody>\n",
       "</table>\n",
       "<p>8 rows × 61 columns</p>\n",
       "</div>"
      ],
      "text/plain": [
       "          Duration        Amount  InstallmentRatePercentage  \\\n",
       "count  1000.000000   1000.000000                1000.000000   \n",
       "mean     20.903000   3271.258000                   2.973000   \n",
       "std      12.058814   2822.736876                   1.118715   \n",
       "min       4.000000    250.000000                   1.000000   \n",
       "25%      12.000000   1365.500000                   2.000000   \n",
       "50%      18.000000   2319.500000                   3.000000   \n",
       "75%      24.000000   3972.250000                   4.000000   \n",
       "max      72.000000  18424.000000                   4.000000   \n",
       "\n",
       "       ResidenceDuration          Age  NumberExistingCredits  \\\n",
       "count        1000.000000  1000.000000            1000.000000   \n",
       "mean            2.845000    35.546000               1.407000   \n",
       "std             1.103718    11.375469               0.577654   \n",
       "min             1.000000    19.000000               1.000000   \n",
       "25%             2.000000    27.000000               1.000000   \n",
       "50%             3.000000    33.000000               1.000000   \n",
       "75%             4.000000    42.000000               2.000000   \n",
       "max             4.000000    75.000000               4.000000   \n",
       "\n",
       "       NumberPeopleMaintenance    Telephone  ForeignWorker  \\\n",
       "count              1000.000000  1000.000000    1000.000000   \n",
       "mean                  1.155000     0.596000       0.963000   \n",
       "std                   0.362086     0.490943       0.188856   \n",
       "min                   1.000000     0.000000       0.000000   \n",
       "25%                   1.000000     0.000000       1.000000   \n",
       "50%                   1.000000     1.000000       1.000000   \n",
       "75%                   1.000000     1.000000       1.000000   \n",
       "max                   2.000000     1.000000       1.000000   \n",
       "\n",
       "       CheckingAccountStatus.lt.0  ...  OtherInstallmentPlans.Bank  \\\n",
       "count                 1000.000000  ...                  1000.00000   \n",
       "mean                     0.274000  ...                     0.13900   \n",
       "std                      0.446232  ...                     0.34612   \n",
       "min                      0.000000  ...                     0.00000   \n",
       "25%                      0.000000  ...                     0.00000   \n",
       "50%                      0.000000  ...                     0.00000   \n",
       "75%                      1.000000  ...                     0.00000   \n",
       "max                      1.000000  ...                     1.00000   \n",
       "\n",
       "       OtherInstallmentPlans.Stores  OtherInstallmentPlans.None  Housing.Rent  \\\n",
       "count                   1000.000000                 1000.000000   1000.000000   \n",
       "mean                       0.047000                    0.814000      0.179000   \n",
       "std                        0.211745                    0.389301      0.383544   \n",
       "min                        0.000000                    0.000000      0.000000   \n",
       "25%                        0.000000                    1.000000      0.000000   \n",
       "50%                        0.000000                    1.000000      0.000000   \n",
       "75%                        0.000000                    1.000000      0.000000   \n",
       "max                        1.000000                    1.000000      1.000000   \n",
       "\n",
       "       Housing.Own  Housing.ForFree  Job.UnemployedUnskilled  \\\n",
       "count  1000.000000      1000.000000              1000.000000   \n",
       "mean      0.713000         0.108000                 0.022000   \n",
       "std       0.452588         0.310536                 0.146757   \n",
       "min       0.000000         0.000000                 0.000000   \n",
       "25%       0.000000         0.000000                 0.000000   \n",
       "50%       1.000000         0.000000                 0.000000   \n",
       "75%       1.000000         0.000000                 0.000000   \n",
       "max       1.000000         1.000000                 1.000000   \n",
       "\n",
       "       Job.UnskilledResident  Job.SkilledEmployee  \\\n",
       "count              1000.0000          1000.000000   \n",
       "mean                  0.2000             0.630000   \n",
       "std                   0.4002             0.483046   \n",
       "min                   0.0000             0.000000   \n",
       "25%                   0.0000             0.000000   \n",
       "50%                   0.0000             1.000000   \n",
       "75%                   0.0000             1.000000   \n",
       "max                   1.0000             1.000000   \n",
       "\n",
       "       Job.Management.SelfEmp.HighlyQualified  \n",
       "count                             1000.000000  \n",
       "mean                                 0.148000  \n",
       "std                                  0.355278  \n",
       "min                                  0.000000  \n",
       "25%                                  0.000000  \n",
       "50%                                  0.000000  \n",
       "75%                                  0.000000  \n",
       "max                                  1.000000  \n",
       "\n",
       "[8 rows x 61 columns]"
      ]
     },
     "execution_count": 6,
     "metadata": {},
     "output_type": "execute_result"
    }
   ],
   "source": [
    "credit.describe()"
   ]
  },
  {
   "cell_type": "markdown",
   "metadata": {},
   "source": [
    "We have a mix of categorical and continuous variables.\n",
    "\n",
    "The target variable `Class` is a categorical. Let's explore it."
   ]
  },
  {
   "cell_type": "code",
   "execution_count": 7,
   "metadata": {},
   "outputs": [
    {
     "data": {
      "text/plain": [
       "Good    700\n",
       "Bad     300\n",
       "Name: Class, dtype: int64"
      ]
     },
     "execution_count": 7,
     "metadata": {},
     "output_type": "execute_result"
    }
   ],
   "source": [
    "credit['Class'].value_counts()"
   ]
  },
  {
   "cell_type": "markdown",
   "metadata": {},
   "source": [
    "The data set is not balanced, so we need to take care of that. \n",
    "\n",
    "Lets convert the strings into numerical values for the target. `{\"Good\" : 1, \"Bad\" : 0}`"
   ]
  },
  {
   "cell_type": "code",
   "execution_count": 8,
   "metadata": {},
   "outputs": [
    {
     "data": {
      "text/plain": [
       "1    700\n",
       "0    300\n",
       "Name: Class, dtype: int64"
      ]
     },
     "execution_count": 8,
     "metadata": {},
     "output_type": "execute_result"
    }
   ],
   "source": [
    "transform = {\"Class\": {\"Good\" : 1, \"Bad\" : 0}}\n",
    "\n",
    "credit.replace(transform, inplace=True)\n",
    "credit['Class'].value_counts()"
   ]
  },
  {
   "cell_type": "code",
   "execution_count": 9,
   "metadata": {},
   "outputs": [
    {
     "name": "stdout",
     "output_type": "stream",
     "text": [
      "Duration: 72\n",
      "Amount: 18424\n",
      "InstallmentRatePercentage: 4\n",
      "ResidenceDuration: 4\n",
      "Age: 75\n",
      "NumberExistingCredits: 4\n",
      "NumberPeopleMaintenance: 2\n"
     ]
    }
   ],
   "source": [
    "for column in credit:\n",
    "    if credit[column].max() > 1:\n",
    "        print('{}: {}'.format(column, credit[column].max()))"
   ]
  },
  {
   "cell_type": "markdown",
   "metadata": {},
   "source": [
    "`Duration`, `Amount` & `Age` are the only columns with numerical values.\n",
    "\n",
    "Let's take a look a the distributions of the continuous variables to check for outliers etc."
   ]
  },
  {
   "cell_type": "code",
   "execution_count": 10,
   "metadata": {},
   "outputs": [
    {
     "data": {
      "image/png": "[encoded data removed]",
      "text/plain": [
       "<Figure size 1008x288 with 3 Axes>"
      ]
     },
     "metadata": {
      "needs_background": "light"
     },
     "output_type": "display_data"
    }
   ],
   "source": [
    "plt.subplots(1,3, figsize=(14,4))\n",
    "\n",
    "plt.subplot(1,3, 1)\n",
    "plt.hist(credit.Duration)\n",
    "plt.title(\"Loan duration\")\n",
    "plt.xlabel(\"Duration\")\n",
    "plt.ylabel(\"Frequencey\")\n",
    "\n",
    "plt.subplot(1,3, 2)\n",
    "plt.hist(np.log10(credit.Amount))\n",
    "plt.title(\"Loan amount\")\n",
    "plt.xlabel(\"Log 10 Amount\")\n",
    "plt.ylabel(\"Frequencey\")\n",
    "\n",
    "plt.subplot(1,3, 3)\n",
    "plt.hist(credit.Age)\n",
    "plt.title(\"Borrower age\")\n",
    "plt.xlabel(\"Age\")\n",
    "plt.ylabel(\"Frequencey\")\n",
    "\n",
    "plt.tight_layout()\n",
    "plt.show()"
   ]
  },
  {
   "cell_type": "code",
   "execution_count": 11,
   "metadata": {},
   "outputs": [
    {
     "name": "stdout",
     "output_type": "stream",
     "text": [
      "(750, 61) (250, 61) (750,) (250,)\n"
     ]
    }
   ],
   "source": [
    "x = credit.drop(['Class'], axis = 1)\n",
    "y = credit['Class']\n",
    "\n",
    "x_train, x_test, y_train, y_test = train_test_split(x, y, random_state=5)\n",
    "\n",
    "print(x_train.shape, x_test.shape, y_train.shape, y_test.shape)"
   ]
  },
  {
   "cell_type": "markdown",
   "metadata": {},
   "source": [
    "### DecisionTreeClassifier"
   ]
  },
  {
   "cell_type": "code",
   "execution_count": 12,
   "metadata": {},
   "outputs": [
    {
     "name": "stdout",
     "output_type": "stream",
     "text": [
      "              precision    recall  f1-score   support\n",
      "\n",
      "           0       1.00      1.00      1.00       230\n",
      "           1       1.00      1.00      1.00       520\n",
      "\n",
      "    accuracy                           1.00       750\n",
      "   macro avg       1.00      1.00      1.00       750\n",
      "weighted avg       1.00      1.00      1.00       750\n",
      "\n",
      "              precision    recall  f1-score   support\n",
      "\n",
      "           0       0.47      0.39      0.43        84\n",
      "           1       0.72      0.78      0.75       166\n",
      "\n",
      "    accuracy                           0.65       250\n",
      "   macro avg       0.59      0.58      0.59       250\n",
      "weighted avg       0.63      0.65      0.64       250\n",
      "\n"
     ]
    }
   ],
   "source": [
    "model_1 = DecisionTreeClassifier()\n",
    "model_1.fit(x_train, y_train)\n",
    "\n",
    "y_predict_train_1 = model_1.predict(x_train)\n",
    "y_predict_test_1 = model_1.predict(x_test)\n",
    "\n",
    "print(classification_report(y_predict_train_1, y_train))\n",
    "print(classification_report(y_predict_test_1, y_test))"
   ]
  },
  {
   "cell_type": "code",
   "execution_count": 13,
   "metadata": {},
   "outputs": [
    {
     "data": {
      "text/plain": [
       "{'ccp_alpha': 0.0,\n",
       " 'class_weight': None,\n",
       " 'criterion': 'gini',\n",
       " 'max_depth': None,\n",
       " 'max_features': None,\n",
       " 'max_leaf_nodes': None,\n",
       " 'min_impurity_decrease': 0.0,\n",
       " 'min_impurity_split': None,\n",
       " 'min_samples_leaf': 1,\n",
       " 'min_samples_split': 2,\n",
       " 'min_weight_fraction_leaf': 0.0,\n",
       " 'presort': 'deprecated',\n",
       " 'random_state': None,\n",
       " 'splitter': 'best'}"
      ]
     },
     "execution_count": 13,
     "metadata": {},
     "output_type": "execute_result"
    }
   ],
   "source": [
    "DecisionTreeClassifier().get_params()"
   ]
  },
  {
   "cell_type": "code",
   "execution_count": 14,
   "metadata": {},
   "outputs": [
    {
     "name": "stdout",
     "output_type": "stream",
     "text": [
      "1.8323390046755472\n"
     ]
    }
   ],
   "source": [
    "params = {'max_leaf_nodes': list(range(2, 100)),\n",
    "          'max_depth': list(range(2, 10)),\n",
    "          }\n",
    "\n",
    "grid_search = GridSearchCV(model_1, \n",
    "                          param_grid = params,\n",
    "                          cv = 10)\n",
    "start = time()\n",
    "grid_search.fit(x_train, y_train)\n",
    "print((time()-start)/60)"
   ]
  },
  {
   "cell_type": "code",
   "execution_count": 15,
   "metadata": {},
   "outputs": [
    {
     "data": {
      "text/plain": [
       "{'max_depth': 9, 'max_leaf_nodes': 13}"
      ]
     },
     "execution_count": 15,
     "metadata": {},
     "output_type": "execute_result"
    }
   ],
   "source": [
    "grid_search.best_params_"
   ]
  },
  {
   "cell_type": "code",
   "execution_count": 16,
   "metadata": {},
   "outputs": [
    {
     "name": "stdout",
     "output_type": "stream",
     "text": [
      "              precision    recall  f1-score   support\n",
      "\n",
      "           0       0.33      0.89      0.49        87\n",
      "           1       0.98      0.77      0.86       663\n",
      "\n",
      "    accuracy                           0.78       750\n",
      "   macro avg       0.66      0.83      0.67       750\n",
      "weighted avg       0.91      0.78      0.82       750\n",
      "\n",
      "              precision    recall  f1-score   support\n",
      "\n",
      "           0       0.23      0.47      0.31        34\n",
      "           1       0.90      0.75      0.82       216\n",
      "\n",
      "    accuracy                           0.71       250\n",
      "   macro avg       0.56      0.61      0.56       250\n",
      "weighted avg       0.81      0.71      0.75       250\n",
      "\n"
     ]
    }
   ],
   "source": [
    "model_2 = DecisionTreeClassifier(max_depth= 8, max_leaf_nodes= 13)\n",
    "model_2.fit(x_train, y_train)\n",
    "\n",
    "y_predict_train_2 = model_2.predict(x_train)\n",
    "y_predict_test_2 = model_2.predict(x_test)\n",
    "\n",
    "print(classification_report(y_predict_train_2, y_train))\n",
    "print(classification_report(y_predict_test_2, y_test))"
   ]
  },
  {
   "cell_type": "markdown",
   "metadata": {},
   "source": [
    "#### Hypeparameter Tuning\n",
    "\n",
    "Lets check the hyperparameter individually."
   ]
  },
  {
   "cell_type": "code",
   "execution_count": 17,
   "metadata": {},
   "outputs": [
    {
     "name": "stdout",
     "output_type": "stream",
     "text": [
      "0.03258796532948812\n"
     ]
    },
    {
     "data": {
      "image/png": "[encoded data removed]",
      "text/plain": [
       "<Figure size 432x288 with 1 Axes>"
      ]
     },
     "metadata": {
      "needs_background": "light"
     },
     "output_type": "display_data"
    }
   ],
   "source": [
    "max_leaf_nodes = list(range(2, 100))\n",
    "\n",
    "train_results = []\n",
    "test_results = []\n",
    "\n",
    "start = time()\n",
    "for max_leaf_node in max_leaf_nodes:\n",
    "    dt = DecisionTreeClassifier(max_leaf_nodes=max_leaf_node)\n",
    "    dt.fit(x_train, y_train)\n",
    "    train_pred = dt.predict(x_train)\n",
    "    false_positive_rate, true_positive_rate, thresholds = roc_curve(y_train, train_pred)\n",
    "    roc_auc = auc(false_positive_rate, true_positive_rate)\n",
    "    # Add auc score to previous train results\n",
    "    train_results.append(roc_auc)\n",
    "    y_pred = dt.predict(x_test)\n",
    "    false_positive_rate, true_positive_rate, thresholds = roc_curve(y_test, y_pred)\n",
    "    roc_auc = auc(false_positive_rate, true_positive_rate)\n",
    "    # Add auc score to previous test results\n",
    "    test_results.append(roc_auc)\n",
    "    \n",
    "print((time()-start)/60)\n",
    "\n",
    "from matplotlib.legend_handler import HandlerLine2D\n",
    "line1, = plt.plot(max_leaf_nodes, train_results, 'b', label='Train AUC')\n",
    "line2, = plt.plot(max_leaf_nodes, test_results, 'r', label='Test AUC')\n",
    "plt.legend(handler_map={line1: HandlerLine2D(numpoints=2)})\n",
    "plt.ylabel('AUC score')\n",
    "plt.xlabel('Max leaf nodes')\n",
    "plt.show()"
   ]
  },
  {
   "cell_type": "code",
   "execution_count": 18,
   "metadata": {},
   "outputs": [
    {
     "name": "stdout",
     "output_type": "stream",
     "text": [
      "0.010412283738454183\n"
     ]
    },
    {
     "data": {
      "image/png": "[encoded data removed]",
      "text/plain": [
       "<Figure size 432x288 with 1 Axes>"
      ]
     },
     "metadata": {
      "needs_background": "light"
     },
     "output_type": "display_data"
    }
   ],
   "source": [
    "max_depths = list(range(2, 32))\n",
    "\n",
    "train_results = []\n",
    "test_results = []\n",
    "\n",
    "from sklearn.metrics import roc_curve, auc\n",
    "\n",
    "start = time()\n",
    "for max_depth in max_depths:\n",
    "    dt = DecisionTreeClassifier(max_depth=max_depth)\n",
    "    dt.fit(x_train, y_train)\n",
    "    train_pred = dt.predict(x_train)\n",
    "    false_positive_rate, true_positive_rate, thresholds = roc_curve(y_train, train_pred)\n",
    "    roc_auc = auc(false_positive_rate, true_positive_rate)\n",
    "    train_results.append(roc_auc)\n",
    "    y_pred = dt.predict(x_test)\n",
    "    false_positive_rate, true_positive_rate, thresholds = roc_curve(y_test, y_pred)\n",
    "    roc_auc = auc(false_positive_rate, true_positive_rate)\n",
    "    test_results.append(roc_auc)\n",
    "    \n",
    "print((time()-start)/60)\n",
    "\n",
    "from matplotlib.legend_handler import HandlerLine2D\n",
    "line1, = plt.plot(max_depths, train_results, 'b', label='Train AUC')\n",
    "line2, = plt.plot(max_depths, test_results, 'r', label='Test AUC')\n",
    "plt.legend(handler_map={line1: HandlerLine2D(numpoints=2)})\n",
    "plt.ylabel('AUC score')\n",
    "plt.xlabel('Tree depth')\n",
    "plt.show()"
   ]
  },
  {
   "cell_type": "code",
   "execution_count": 19,
   "metadata": {},
   "outputs": [
    {
     "name": "stdout",
     "output_type": "stream",
     "text": [
      "0.003333000342051188\n"
     ]
    },
    {
     "data": {
      "image/png": "[encoded data removed]",
      "text/plain": [
       "<Figure size 432x288 with 1 Axes>"
      ]
     },
     "metadata": {
      "needs_background": "light"
     },
     "output_type": "display_data"
    }
   ],
   "source": [
    "min_samples_splits = np.linspace(0.1, 1.0, 10, endpoint=True)\n",
    "\n",
    "train_results = []\n",
    "test_results = []\n",
    "\n",
    "start = time()\n",
    "for min_samples_split in min_samples_splits:\n",
    "    dt = DecisionTreeClassifier(min_samples_split=min_samples_split)\n",
    "    dt.fit(x_train, y_train)\n",
    "    train_pred = dt.predict(x_train)\n",
    "    false_positive_rate, true_positive_rate, thresholds =    roc_curve(y_train, train_pred)\n",
    "    roc_auc = auc(false_positive_rate, true_positive_rate)\n",
    "    train_results.append(roc_auc)\n",
    "    y_pred = dt.predict(x_test)\n",
    "    false_positive_rate, true_positive_rate, thresholds = roc_curve(y_test, y_pred)\n",
    "    roc_auc = auc(false_positive_rate, true_positive_rate)\n",
    "    test_results.append(roc_auc)\n",
    "    \n",
    "print((time()-start)/60)\n",
    "\n",
    "line1, = plt.plot(min_samples_splits, train_results, 'b', label='Train AUC')\n",
    "line2, = plt.plot(min_samples_splits, test_results, 'r', label='Test AUC')\n",
    "plt.legend(handler_map={line1: HandlerLine2D(numpoints=2)})\n",
    "plt.ylabel('AUC score')\n",
    "plt.xlabel('min samples split')\n",
    "plt.show()"
   ]
  },
  {
   "cell_type": "code",
   "execution_count": 20,
   "metadata": {},
   "outputs": [
    {
     "name": "stdout",
     "output_type": "stream",
     "text": [
      "3.2620460987091064\n"
     ]
    },
    {
     "data": {
      "image/png": "[encoded data removed]",
      "text/plain": [
       "<Figure size 432x288 with 1 Axes>"
      ]
     },
     "metadata": {
      "needs_background": "light"
     },
     "output_type": "display_data"
    }
   ],
   "source": [
    "min_samples_leafs = list(range(1,200))\n",
    "train_results = []\n",
    "test_results = []\n",
    "\n",
    "start = time()\n",
    "for min_samples_leaf in min_samples_leafs:\n",
    "    dt = DecisionTreeClassifier(min_samples_leaf=min_samples_leaf)\n",
    "    dt.fit(x_train, y_train)\n",
    "    train_pred = dt.predict(x_train)\n",
    "    false_positive_rate, true_positive_rate, thresholds = roc_curve(y_train, train_pred)\n",
    "    roc_auc = auc(false_positive_rate, true_positive_rate)\n",
    "    train_results.append(roc_auc)\n",
    "    y_pred = dt.predict(x_test)\n",
    "    false_positive_rate, true_positive_rate, thresholds = roc_curve(y_test, y_pred)\n",
    "    roc_auc = auc(false_positive_rate, true_positive_rate)\n",
    "    test_results.append(roc_auc)\n",
    "\n",
    "print(time()-start)\n",
    "from matplotlib.legend_handler import HandlerLine2D\n",
    "line1, = plt.plot(min_samples_leafs, train_results, 'b', label='Train AUC')\n",
    "line2, = plt.plot(min_samples_leafs, test_results, 'r', label='Test AUC')\n",
    "plt.legend(handler_map={line1: HandlerLine2D(numpoints=2)})\n",
    "plt.ylabel('AUC score')\n",
    "plt.xlabel('min samples leaf')\n",
    "plt.show()"
   ]
  },
  {
   "cell_type": "code",
   "execution_count": 21,
   "metadata": {},
   "outputs": [
    {
     "name": "stdout",
     "output_type": "stream",
     "text": [
      "5.163639911015829\n"
     ]
    }
   ],
   "source": [
    "#model3\n",
    "params = {'max_leaf_nodes': list(range(40, 80)),\n",
    "          'max_depth': list(range(5, 15)),\n",
    "          'min_samples_split' : np.linspace(0.1, 0.4, 4, endpoint=True),\n",
    "          'min_samples_leaf' : list(range(50, 125))\n",
    "          }\n",
    "\n",
    "grid_search_2 = RandomizedSearchCV(model_1, \n",
    "                          param_distributions = params,\n",
    "                          n_iter = 5000,\n",
    "                          scoring=make_scorer(metrics.average_precision_score))\n",
    "start = time()\n",
    "model_3 = grid_search_2.fit(x_train, y_train)\n",
    "print((time()-start)/60)"
   ]
  },
  {
   "cell_type": "code",
   "execution_count": 22,
   "metadata": {},
   "outputs": [
    {
     "data": {
      "text/html": [
       "<div>\n",
       "<style scoped>\n",
       "    .dataframe tbody tr th:only-of-type {\n",
       "        vertical-align: middle;\n",
       "    }\n",
       "\n",
       "    .dataframe tbody tr th {\n",
       "        vertical-align: top;\n",
       "    }\n",
       "\n",
       "    .dataframe thead th {\n",
       "        text-align: right;\n",
       "    }\n",
       "</style>\n",
       "<table border=\"1\" class=\"dataframe\">\n",
       "  <thead>\n",
       "    <tr style=\"text-align: right;\">\n",
       "      <th></th>\n",
       "      <th>mean_fit_time</th>\n",
       "      <th>std_fit_time</th>\n",
       "      <th>mean_score_time</th>\n",
       "      <th>std_score_time</th>\n",
       "      <th>param_min_samples_split</th>\n",
       "      <th>param_min_samples_leaf</th>\n",
       "      <th>param_max_leaf_nodes</th>\n",
       "      <th>param_max_depth</th>\n",
       "      <th>params</th>\n",
       "      <th>split0_test_score</th>\n",
       "      <th>split1_test_score</th>\n",
       "      <th>split2_test_score</th>\n",
       "      <th>split3_test_score</th>\n",
       "      <th>split4_test_score</th>\n",
       "      <th>mean_test_score</th>\n",
       "      <th>std_test_score</th>\n",
       "      <th>rank_test_score</th>\n",
       "    </tr>\n",
       "  </thead>\n",
       "  <tbody>\n",
       "    <tr>\n",
       "      <th>0</th>\n",
       "      <td>0.008031</td>\n",
       "      <td>0.004273</td>\n",
       "      <td>0.001972</td>\n",
       "      <td>0.003944</td>\n",
       "      <td>0.2</td>\n",
       "      <td>119</td>\n",
       "      <td>48</td>\n",
       "      <td>5</td>\n",
       "      <td>{'min_samples_split': 0.2, 'min_samples_leaf':...</td>\n",
       "      <td>0.781029</td>\n",
       "      <td>0.780528</td>\n",
       "      <td>0.765824</td>\n",
       "      <td>0.742185</td>\n",
       "      <td>0.772186</td>\n",
       "      <td>0.768350</td>\n",
       "      <td>0.014246</td>\n",
       "      <td>33</td>\n",
       "    </tr>\n",
       "    <tr>\n",
       "      <th>1</th>\n",
       "      <td>0.005866</td>\n",
       "      <td>0.003478</td>\n",
       "      <td>0.002052</td>\n",
       "      <td>0.002514</td>\n",
       "      <td>0.1</td>\n",
       "      <td>90</td>\n",
       "      <td>46</td>\n",
       "      <td>9</td>\n",
       "      <td>{'min_samples_split': 0.1, 'min_samples_leaf':...</td>\n",
       "      <td>0.781029</td>\n",
       "      <td>0.780528</td>\n",
       "      <td>0.724920</td>\n",
       "      <td>0.742185</td>\n",
       "      <td>0.772186</td>\n",
       "      <td>0.760170</td>\n",
       "      <td>0.022627</td>\n",
       "      <td>2644</td>\n",
       "    </tr>\n",
       "    <tr>\n",
       "      <th>2</th>\n",
       "      <td>0.005001</td>\n",
       "      <td>0.004578</td>\n",
       "      <td>0.004062</td>\n",
       "      <td>0.004128</td>\n",
       "      <td>0.3</td>\n",
       "      <td>65</td>\n",
       "      <td>49</td>\n",
       "      <td>13</td>\n",
       "      <td>{'min_samples_split': 0.30000000000000004, 'mi...</td>\n",
       "      <td>0.781029</td>\n",
       "      <td>0.767813</td>\n",
       "      <td>0.713052</td>\n",
       "      <td>0.742185</td>\n",
       "      <td>0.723434</td>\n",
       "      <td>0.745503</td>\n",
       "      <td>0.025733</td>\n",
       "      <td>4011</td>\n",
       "    </tr>\n",
       "    <tr>\n",
       "      <th>3</th>\n",
       "      <td>0.005884</td>\n",
       "      <td>0.003581</td>\n",
       "      <td>0.004012</td>\n",
       "      <td>0.003753</td>\n",
       "      <td>0.4</td>\n",
       "      <td>95</td>\n",
       "      <td>41</td>\n",
       "      <td>6</td>\n",
       "      <td>{'min_samples_split': 0.4, 'min_samples_leaf':...</td>\n",
       "      <td>0.781029</td>\n",
       "      <td>0.780528</td>\n",
       "      <td>0.765824</td>\n",
       "      <td>0.742185</td>\n",
       "      <td>0.772186</td>\n",
       "      <td>0.768350</td>\n",
       "      <td>0.014246</td>\n",
       "      <td>33</td>\n",
       "    </tr>\n",
       "    <tr>\n",
       "      <th>4</th>\n",
       "      <td>0.006569</td>\n",
       "      <td>0.002247</td>\n",
       "      <td>0.004499</td>\n",
       "      <td>0.003277</td>\n",
       "      <td>0.4</td>\n",
       "      <td>66</td>\n",
       "      <td>62</td>\n",
       "      <td>13</td>\n",
       "      <td>{'min_samples_split': 0.4, 'min_samples_leaf':...</td>\n",
       "      <td>0.781029</td>\n",
       "      <td>0.780528</td>\n",
       "      <td>0.713052</td>\n",
       "      <td>0.742185</td>\n",
       "      <td>0.772186</td>\n",
       "      <td>0.757796</td>\n",
       "      <td>0.026493</td>\n",
       "      <td>3046</td>\n",
       "    </tr>\n",
       "  </tbody>\n",
       "</table>\n",
       "</div>"
      ],
      "text/plain": [
       "   mean_fit_time  std_fit_time  mean_score_time  std_score_time  \\\n",
       "0       0.008031      0.004273         0.001972        0.003944   \n",
       "1       0.005866      0.003478         0.002052        0.002514   \n",
       "2       0.005001      0.004578         0.004062        0.004128   \n",
       "3       0.005884      0.003581         0.004012        0.003753   \n",
       "4       0.006569      0.002247         0.004499        0.003277   \n",
       "\n",
       "  param_min_samples_split param_min_samples_leaf param_max_leaf_nodes  \\\n",
       "0                     0.2                    119                   48   \n",
       "1                     0.1                     90                   46   \n",
       "2                     0.3                     65                   49   \n",
       "3                     0.4                     95                   41   \n",
       "4                     0.4                     66                   62   \n",
       "\n",
       "  param_max_depth                                             params  \\\n",
       "0               5  {'min_samples_split': 0.2, 'min_samples_leaf':...   \n",
       "1               9  {'min_samples_split': 0.1, 'min_samples_leaf':...   \n",
       "2              13  {'min_samples_split': 0.30000000000000004, 'mi...   \n",
       "3               6  {'min_samples_split': 0.4, 'min_samples_leaf':...   \n",
       "4              13  {'min_samples_split': 0.4, 'min_samples_leaf':...   \n",
       "\n",
       "   split0_test_score  split1_test_score  split2_test_score  split3_test_score  \\\n",
       "0           0.781029           0.780528           0.765824           0.742185   \n",
       "1           0.781029           0.780528           0.724920           0.742185   \n",
       "2           0.781029           0.767813           0.713052           0.742185   \n",
       "3           0.781029           0.780528           0.765824           0.742185   \n",
       "4           0.781029           0.780528           0.713052           0.742185   \n",
       "\n",
       "   split4_test_score  mean_test_score  std_test_score  rank_test_score  \n",
       "0           0.772186         0.768350        0.014246               33  \n",
       "1           0.772186         0.760170        0.022627             2644  \n",
       "2           0.723434         0.745503        0.025733             4011  \n",
       "3           0.772186         0.768350        0.014246               33  \n",
       "4           0.772186         0.757796        0.026493             3046  "
      ]
     },
     "execution_count": 22,
     "metadata": {},
     "output_type": "execute_result"
    }
   ],
   "source": [
    "results_3 = pd.DataFrame(model_3.cv_results_).dropna()\n",
    "results_3.head()"
   ]
  },
  {
   "cell_type": "code",
   "execution_count": 23,
   "metadata": {},
   "outputs": [
    {
     "name": "stdout",
     "output_type": "stream",
     "text": [
      "<class 'pandas.core.frame.DataFrame'>\n",
      "Int64Index: 5000 entries, 0 to 4999\n",
      "Data columns (total 17 columns):\n",
      " #   Column                   Non-Null Count  Dtype  \n",
      "---  ------                   --------------  -----  \n",
      " 0   mean_fit_time            5000 non-null   float64\n",
      " 1   std_fit_time             5000 non-null   float64\n",
      " 2   mean_score_time          5000 non-null   float64\n",
      " 3   std_score_time           5000 non-null   float64\n",
      " 4   param_min_samples_split  5000 non-null   object \n",
      " 5   param_min_samples_leaf   5000 non-null   object \n",
      " 6   param_max_leaf_nodes     5000 non-null   object \n",
      " 7   param_max_depth          5000 non-null   object \n",
      " 8   params                   5000 non-null   object \n",
      " 9   split0_test_score        5000 non-null   float64\n",
      " 10  split1_test_score        5000 non-null   float64\n",
      " 11  split2_test_score        5000 non-null   float64\n",
      " 12  split3_test_score        5000 non-null   float64\n",
      " 13  split4_test_score        5000 non-null   float64\n",
      " 14  mean_test_score          5000 non-null   float64\n",
      " 15  std_test_score           5000 non-null   float64\n",
      " 16  rank_test_score          5000 non-null   int32  \n",
      "dtypes: float64(11), int32(1), object(5)\n",
      "memory usage: 683.6+ KB\n"
     ]
    }
   ],
   "source": [
    "results_3.info()"
   ]
  },
  {
   "cell_type": "code",
   "execution_count": 24,
   "metadata": {},
   "outputs": [
    {
     "data": {
      "text/html": [
       "<div>\n",
       "<style scoped>\n",
       "    .dataframe tbody tr th:only-of-type {\n",
       "        vertical-align: middle;\n",
       "    }\n",
       "\n",
       "    .dataframe tbody tr th {\n",
       "        vertical-align: top;\n",
       "    }\n",
       "\n",
       "    .dataframe thead th {\n",
       "        text-align: right;\n",
       "    }\n",
       "</style>\n",
       "<table border=\"1\" class=\"dataframe\">\n",
       "  <thead>\n",
       "    <tr style=\"text-align: right;\">\n",
       "      <th></th>\n",
       "      <th>mean_fit_time</th>\n",
       "      <th>std_fit_time</th>\n",
       "      <th>mean_score_time</th>\n",
       "      <th>std_score_time</th>\n",
       "      <th>param_min_samples_split</th>\n",
       "      <th>param_min_samples_leaf</th>\n",
       "      <th>param_max_leaf_nodes</th>\n",
       "      <th>param_max_depth</th>\n",
       "      <th>params</th>\n",
       "      <th>split0_test_score</th>\n",
       "      <th>split1_test_score</th>\n",
       "      <th>split2_test_score</th>\n",
       "      <th>split3_test_score</th>\n",
       "      <th>split4_test_score</th>\n",
       "      <th>mean_test_score</th>\n",
       "      <th>std_test_score</th>\n",
       "      <th>rank_test_score</th>\n",
       "    </tr>\n",
       "  </thead>\n",
       "  <tbody>\n",
       "    <tr>\n",
       "      <th>14</th>\n",
       "      <td>0.006034</td>\n",
       "      <td>0.002016</td>\n",
       "      <td>0.004063</td>\n",
       "      <td>0.001992</td>\n",
       "      <td>0.2</td>\n",
       "      <td>53</td>\n",
       "      <td>58</td>\n",
       "      <td>13</td>\n",
       "      <td>{'min_samples_split': 0.2, 'min_samples_leaf':...</td>\n",
       "      <td>0.802569</td>\n",
       "      <td>0.786278</td>\n",
       "      <td>0.743682</td>\n",
       "      <td>0.787691</td>\n",
       "      <td>0.749459</td>\n",
       "      <td>0.773936</td>\n",
       "      <td>0.023133</td>\n",
       "      <td>1</td>\n",
       "    </tr>\n",
       "    <tr>\n",
       "      <th>519</th>\n",
       "      <td>0.009948</td>\n",
       "      <td>0.003034</td>\n",
       "      <td>0.004092</td>\n",
       "      <td>0.003842</td>\n",
       "      <td>0.2</td>\n",
       "      <td>53</td>\n",
       "      <td>51</td>\n",
       "      <td>10</td>\n",
       "      <td>{'min_samples_split': 0.2, 'min_samples_leaf':...</td>\n",
       "      <td>0.802569</td>\n",
       "      <td>0.786278</td>\n",
       "      <td>0.743682</td>\n",
       "      <td>0.787691</td>\n",
       "      <td>0.749459</td>\n",
       "      <td>0.773936</td>\n",
       "      <td>0.023133</td>\n",
       "      <td>1</td>\n",
       "    </tr>\n",
       "    <tr>\n",
       "      <th>628</th>\n",
       "      <td>0.004027</td>\n",
       "      <td>0.003759</td>\n",
       "      <td>0.005063</td>\n",
       "      <td>0.004526</td>\n",
       "      <td>0.2</td>\n",
       "      <td>53</td>\n",
       "      <td>57</td>\n",
       "      <td>9</td>\n",
       "      <td>{'min_samples_split': 0.2, 'min_samples_leaf':...</td>\n",
       "      <td>0.802569</td>\n",
       "      <td>0.786278</td>\n",
       "      <td>0.743682</td>\n",
       "      <td>0.787691</td>\n",
       "      <td>0.749459</td>\n",
       "      <td>0.773936</td>\n",
       "      <td>0.023133</td>\n",
       "      <td>1</td>\n",
       "    </tr>\n",
       "    <tr>\n",
       "      <th>1126</th>\n",
       "      <td>0.009211</td>\n",
       "      <td>0.002140</td>\n",
       "      <td>0.005757</td>\n",
       "      <td>0.002020</td>\n",
       "      <td>0.2</td>\n",
       "      <td>53</td>\n",
       "      <td>59</td>\n",
       "      <td>11</td>\n",
       "      <td>{'min_samples_split': 0.2, 'min_samples_leaf':...</td>\n",
       "      <td>0.802569</td>\n",
       "      <td>0.786278</td>\n",
       "      <td>0.743682</td>\n",
       "      <td>0.787691</td>\n",
       "      <td>0.749459</td>\n",
       "      <td>0.773936</td>\n",
       "      <td>0.023133</td>\n",
       "      <td>1</td>\n",
       "    </tr>\n",
       "    <tr>\n",
       "      <th>1129</th>\n",
       "      <td>0.005958</td>\n",
       "      <td>0.002074</td>\n",
       "      <td>0.004228</td>\n",
       "      <td>0.002152</td>\n",
       "      <td>0.2</td>\n",
       "      <td>53</td>\n",
       "      <td>43</td>\n",
       "      <td>7</td>\n",
       "      <td>{'min_samples_split': 0.2, 'min_samples_leaf':...</td>\n",
       "      <td>0.802569</td>\n",
       "      <td>0.786278</td>\n",
       "      <td>0.743682</td>\n",
       "      <td>0.787691</td>\n",
       "      <td>0.749459</td>\n",
       "      <td>0.773936</td>\n",
       "      <td>0.023133</td>\n",
       "      <td>1</td>\n",
       "    </tr>\n",
       "  </tbody>\n",
       "</table>\n",
       "</div>"
      ],
      "text/plain": [
       "      mean_fit_time  std_fit_time  mean_score_time  std_score_time  \\\n",
       "14         0.006034      0.002016         0.004063        0.001992   \n",
       "519        0.009948      0.003034         0.004092        0.003842   \n",
       "628        0.004027      0.003759         0.005063        0.004526   \n",
       "1126       0.009211      0.002140         0.005757        0.002020   \n",
       "1129       0.005958      0.002074         0.004228        0.002152   \n",
       "\n",
       "     param_min_samples_split param_min_samples_leaf param_max_leaf_nodes  \\\n",
       "14                       0.2                     53                   58   \n",
       "519                      0.2                     53                   51   \n",
       "628                      0.2                     53                   57   \n",
       "1126                     0.2                     53                   59   \n",
       "1129                     0.2                     53                   43   \n",
       "\n",
       "     param_max_depth                                             params  \\\n",
       "14                13  {'min_samples_split': 0.2, 'min_samples_leaf':...   \n",
       "519               10  {'min_samples_split': 0.2, 'min_samples_leaf':...   \n",
       "628                9  {'min_samples_split': 0.2, 'min_samples_leaf':...   \n",
       "1126              11  {'min_samples_split': 0.2, 'min_samples_leaf':...   \n",
       "1129               7  {'min_samples_split': 0.2, 'min_samples_leaf':...   \n",
       "\n",
       "      split0_test_score  split1_test_score  split2_test_score  \\\n",
       "14             0.802569           0.786278           0.743682   \n",
       "519            0.802569           0.786278           0.743682   \n",
       "628            0.802569           0.786278           0.743682   \n",
       "1126           0.802569           0.786278           0.743682   \n",
       "1129           0.802569           0.786278           0.743682   \n",
       "\n",
       "      split3_test_score  split4_test_score  mean_test_score  std_test_score  \\\n",
       "14             0.787691           0.749459         0.773936        0.023133   \n",
       "519            0.787691           0.749459         0.773936        0.023133   \n",
       "628            0.787691           0.749459         0.773936        0.023133   \n",
       "1126           0.787691           0.749459         0.773936        0.023133   \n",
       "1129           0.787691           0.749459         0.773936        0.023133   \n",
       "\n",
       "      rank_test_score  \n",
       "14                  1  \n",
       "519                 1  \n",
       "628                 1  \n",
       "1126                1  \n",
       "1129                1  "
      ]
     },
     "execution_count": 24,
     "metadata": {},
     "output_type": "execute_result"
    }
   ],
   "source": [
    "results_3_best = results_3[results_3['rank_test_score'] == results_3['rank_test_score'].min()]\n",
    "results_3_best.head()"
   ]
  },
  {
   "cell_type": "code",
   "execution_count": 25,
   "metadata": {},
   "outputs": [
    {
     "data": {
      "text/plain": [
       "{'min_samples_split': 0.2,\n",
       " 'min_samples_leaf': 53,\n",
       " 'max_leaf_nodes': 58,\n",
       " 'max_depth': 13}"
      ]
     },
     "execution_count": 25,
     "metadata": {},
     "output_type": "execute_result"
    }
   ],
   "source": [
    "model_3.best_params_"
   ]
  },
  {
   "cell_type": "code",
   "execution_count": 26,
   "metadata": {},
   "outputs": [
    {
     "name": "stdout",
     "output_type": "stream",
     "text": [
      "              precision    recall  f1-score   support\n",
      "\n",
      "           0       0.51      0.55      0.53       212\n",
      "           1       0.82      0.79      0.80       538\n",
      "\n",
      "    accuracy                           0.72       750\n",
      "   macro avg       0.66      0.67      0.67       750\n",
      "weighted avg       0.73      0.72      0.73       750\n",
      "\n",
      "              precision    recall  f1-score   support\n",
      "\n",
      "           0       0.39      0.44      0.41        62\n",
      "           1       0.81      0.77      0.79       188\n",
      "\n",
      "    accuracy                           0.69       250\n",
      "   macro avg       0.60      0.60      0.60       250\n",
      "weighted avg       0.70      0.69      0.69       250\n",
      "\n",
      "[[ 27  35]\n",
      " [ 43 145]]\n"
     ]
    }
   ],
   "source": [
    "best_model = DecisionTreeClassifier(\n",
    "            max_depth = 6,\n",
    "            max_leaf_nodes = 71,\n",
    "            min_samples_split = 0.1,\n",
    "            min_samples_leaf = 101)\n",
    "\n",
    "best_model.fit(x_train, y_train)\n",
    "\n",
    "y_predict_train_3 = best_model.predict(x_train)\n",
    "y_predict_test_3 = best_model.predict(x_test)\n",
    "\n",
    "print(classification_report(y_predict_train_3, y_train))\n",
    "print(classification_report(y_predict_test_3, y_test))\n",
    "print(confusion_matrix(y_predict_test_3, y_test))"
   ]
  },
  {
   "cell_type": "code",
   "execution_count": 27,
   "metadata": {},
   "outputs": [
    {
     "data": {
      "image/png": "[encoded data removed]",
      "text/plain": [
       "<Figure size 864x720 with 4 Axes>"
      ]
     },
     "metadata": {
      "needs_background": "light"
     },
     "output_type": "display_data"
    }
   ],
   "source": [
    "plt.subplots(2,2,figsize=(12,10))\n",
    "\n",
    "plt.subplot(2, 2, 1)\n",
    "plt.hist(results_3.mean_test_score)\n",
    "plt.title(\"Score distribution\")\n",
    "plt.xlabel(\"Tree score\")\n",
    "plt.ylabel(\"Frequencey\")\n",
    "\n",
    "plt.subplot(2, 2, 2)\n",
    "plt.scatter(results_3.param_max_depth, results_3.mean_test_score, s=5)\n",
    "plt.xlabel(\"Max depth\")\n",
    "plt.ylabel(\"Mean score\")\n",
    "plt.title(\"Max tree depth vs score\")\n",
    "\n",
    "plt.subplot(2, 2, 3)\n",
    "plt.scatter(results_3.param_max_leaf_nodes, results_3.mean_test_score, s=5)\n",
    "plt.xlabel(\"Max leaf nodes\")\n",
    "plt.ylabel(\"Mean score\")\n",
    "plt.title(\"Max leaf nodes vs score\")\n",
    "\n",
    "plt.subplot(2, 2, 4)\n",
    "plt.scatter(results_3.param_min_samples_split, results_3.mean_test_score, s=5)\n",
    "plt.xlabel(\"Min. sample splits\")\n",
    "plt.ylabel(\"Mean score\")\n",
    "plt.title(\"Minimum sample splits\")\n",
    "\n",
    "plt.tight_layout()\n",
    "plt.show()"
   ]
  },
  {
   "cell_type": "markdown",
   "metadata": {},
   "source": [
    "### Random Forest"
   ]
  },
  {
   "cell_type": "code",
   "execution_count": 28,
   "metadata": {},
   "outputs": [],
   "source": [
    "from sklearn.ensemble import RandomForestClassifier"
   ]
  },
  {
   "cell_type": "code",
   "execution_count": 29,
   "metadata": {},
   "outputs": [
    {
     "data": {
      "text/plain": [
       "{'bootstrap': True,\n",
       " 'ccp_alpha': 0.0,\n",
       " 'class_weight': None,\n",
       " 'criterion': 'gini',\n",
       " 'max_depth': None,\n",
       " 'max_features': 'auto',\n",
       " 'max_leaf_nodes': None,\n",
       " 'max_samples': None,\n",
       " 'min_impurity_decrease': 0.0,\n",
       " 'min_impurity_split': None,\n",
       " 'min_samples_leaf': 1,\n",
       " 'min_samples_split': 2,\n",
       " 'min_weight_fraction_leaf': 0.0,\n",
       " 'n_estimators': 100,\n",
       " 'n_jobs': None,\n",
       " 'oob_score': False,\n",
       " 'random_state': None,\n",
       " 'verbose': 0,\n",
       " 'warm_start': False}"
      ]
     },
     "execution_count": 29,
     "metadata": {},
     "output_type": "execute_result"
    }
   ],
   "source": [
    "RandomForestClassifier().get_params()"
   ]
  },
  {
   "cell_type": "code",
   "execution_count": 30,
   "metadata": {
    "scrolled": true
   },
   "outputs": [
    {
     "name": "stdout",
     "output_type": "stream",
     "text": [
      "RandomizedSearchCV took 28 min. for 1000 candidate parameter settings.\n"
     ]
    }
   ],
   "source": [
    "forrest = RandomForestClassifier(n_estimators=100)\n",
    "\n",
    "# hyperparameter distributions\n",
    "param_dist = {}\n",
    "param_dist = {'max_depth': range(6, 12),\n",
    "              'max_leaf_nodes': range(4,100),\n",
    "              'min_samples_leaf': range(1,200)\n",
    "              }\n",
    "\n",
    "# search settings\n",
    "n_iter_search = 1000\n",
    "#num_jobs = 14\n",
    "\n",
    "# set up random search with average precision-recall scorer\n",
    "model_4 = RandomizedSearchCV(forrest, \n",
    "                             param_distributions=param_dist, \n",
    "                             scoring=make_scorer(metrics.average_precision_score),\n",
    "                             n_iter = n_iter_search\n",
    "                             )\n",
    "# run and time search\n",
    "start = time()\n",
    "                             \n",
    "model_4.fit(x_train, y_train)\n",
    "print(\"RandomizedSearchCV took %.f min. for %d candidate\"\n",
    "      \" parameter settings.\" % (((time() - start)/60), n_iter_search))"
   ]
  },
  {
   "cell_type": "code",
   "execution_count": 31,
   "metadata": {},
   "outputs": [
    {
     "data": {
      "image/png": "[encoded data removed]",
      "text/plain": [
       "<Figure size 864x720 with 4 Axes>"
      ]
     },
     "metadata": {
      "needs_background": "light"
     },
     "output_type": "display_data"
    }
   ],
   "source": [
    "results_4 = pd.DataFrame(model_4.cv_results_).dropna()\n",
    "\n",
    "plt.subplots(2,2,figsize=(12,10))\n",
    "\n",
    "plt.rc('axes', titlesize=15)     # fontsize of the axes title\n",
    "plt.rc('axes', labelsize=15)    # fontsize of the x and y labels\n",
    "plt.rc('xtick', labelsize=15)    # fontsize of the tick labels\n",
    "plt.rc('ytick', labelsize=15)    # fontsize of the tick labels\n",
    "\n",
    "plt.subplot(2, 2, 1)\n",
    "plt.hist(results_4.mean_test_score)\n",
    "plt.title(\"Score distribution\")\n",
    "plt.xlabel(\"Tree score\")\n",
    "plt.ylabel(\"Frequencey\")\n",
    "\n",
    "plt.subplot(2, 2, 2)\n",
    "plt.scatter(results_4.param_max_depth, results_4.mean_test_score, s=5)\n",
    "plt.xlabel(\"Max depth\")\n",
    "plt.ylabel(\"Mean score\")\n",
    "plt.title(\"Max tree depth vs score\")\n",
    "\n",
    "plt.subplot(2, 2, 3)\n",
    "plt.scatter(results_4.param_max_leaf_nodes, results_4.mean_test_score, s=5)\n",
    "plt.xlabel(\"Max leaf nodes\")\n",
    "plt.ylabel(\"Mean score\")\n",
    "plt.title(\"Max leaf nodes vs score\")\n",
    "\n",
    "plt.subplot(2, 2, 4)\n",
    "plt.scatter(results_4.param_min_samples_leaf, results_4.mean_test_score, s=5)\n",
    "plt.xlabel(\"Min. sample leaf\")\n",
    "plt.ylabel(\"Mean score\")\n",
    "plt.title(\"Minimum sample leaf\")\n",
    "\n",
    "plt.tight_layout()\n",
    "plt.show()"
   ]
  },
  {
   "cell_type": "code",
   "execution_count": 32,
   "metadata": {},
   "outputs": [
    {
     "data": {
      "text/html": [
       "<div>\n",
       "<style scoped>\n",
       "    .dataframe tbody tr th:only-of-type {\n",
       "        vertical-align: middle;\n",
       "    }\n",
       "\n",
       "    .dataframe tbody tr th {\n",
       "        vertical-align: top;\n",
       "    }\n",
       "\n",
       "    .dataframe thead th {\n",
       "        text-align: right;\n",
       "    }\n",
       "</style>\n",
       "<table border=\"1\" class=\"dataframe\">\n",
       "  <thead>\n",
       "    <tr style=\"text-align: right;\">\n",
       "      <th></th>\n",
       "      <th>mean_fit_time</th>\n",
       "      <th>std_fit_time</th>\n",
       "      <th>mean_score_time</th>\n",
       "      <th>std_score_time</th>\n",
       "      <th>param_min_samples_leaf</th>\n",
       "      <th>param_max_leaf_nodes</th>\n",
       "      <th>param_max_depth</th>\n",
       "      <th>params</th>\n",
       "      <th>split0_test_score</th>\n",
       "      <th>split1_test_score</th>\n",
       "      <th>split2_test_score</th>\n",
       "      <th>split3_test_score</th>\n",
       "      <th>split4_test_score</th>\n",
       "      <th>mean_test_score</th>\n",
       "      <th>std_test_score</th>\n",
       "      <th>rank_test_score</th>\n",
       "    </tr>\n",
       "  </thead>\n",
       "  <tbody>\n",
       "    <tr>\n",
       "      <th>735</th>\n",
       "      <td>0.372018</td>\n",
       "      <td>0.025959</td>\n",
       "      <td>0.024951</td>\n",
       "      <td>0.003147</td>\n",
       "      <td>2</td>\n",
       "      <td>94</td>\n",
       "      <td>11</td>\n",
       "      <td>{'min_samples_leaf': 2, 'max_leaf_nodes': 94, ...</td>\n",
       "      <td>0.76308</td>\n",
       "      <td>0.784132</td>\n",
       "      <td>0.759038</td>\n",
       "      <td>0.767135</td>\n",
       "      <td>0.752726</td>\n",
       "      <td>0.765222</td>\n",
       "      <td>0.010585</td>\n",
       "      <td>1</td>\n",
       "    </tr>\n",
       "  </tbody>\n",
       "</table>\n",
       "</div>"
      ],
      "text/plain": [
       "     mean_fit_time  std_fit_time  mean_score_time  std_score_time  \\\n",
       "735       0.372018      0.025959         0.024951        0.003147   \n",
       "\n",
       "    param_min_samples_leaf param_max_leaf_nodes param_max_depth  \\\n",
       "735                      2                   94              11   \n",
       "\n",
       "                                                params  split0_test_score  \\\n",
       "735  {'min_samples_leaf': 2, 'max_leaf_nodes': 94, ...            0.76308   \n",
       "\n",
       "     split1_test_score  split2_test_score  split3_test_score  \\\n",
       "735           0.784132           0.759038           0.767135   \n",
       "\n",
       "     split4_test_score  mean_test_score  std_test_score  rank_test_score  \n",
       "735           0.752726         0.765222        0.010585                1  "
      ]
     },
     "execution_count": 32,
     "metadata": {},
     "output_type": "execute_result"
    }
   ],
   "source": [
    "results_best_4 = results_4[results_4['rank_test_score'] == results_4['rank_test_score'].min()]\n",
    "results_best_4"
   ]
  },
  {
   "cell_type": "code",
   "execution_count": 33,
   "metadata": {},
   "outputs": [
    {
     "name": "stdout",
     "output_type": "stream",
     "text": [
      "              precision    recall  f1-score   support\n",
      "\n",
      "           0       0.77      0.99      0.87       178\n",
      "           1       1.00      0.91      0.95       572\n",
      "\n",
      "    accuracy                           0.93       750\n",
      "   macro avg       0.88      0.95      0.91       750\n",
      "weighted avg       0.94      0.93      0.93       750\n",
      "\n",
      "              precision    recall  f1-score   support\n",
      "\n",
      "           0       0.30      0.58      0.40        36\n",
      "           1       0.92      0.77      0.84       214\n",
      "\n",
      "    accuracy                           0.74       250\n",
      "   macro avg       0.61      0.68      0.62       250\n",
      "weighted avg       0.83      0.74      0.77       250\n",
      "\n",
      "[[ 21  15]\n",
      " [ 49 165]]\n"
     ]
    }
   ],
   "source": [
    "model_best_4 = RandomForestClassifier(\n",
    "            max_depth=10,\n",
    "            max_leaf_nodes=93,\n",
    "            min_samples_leaf=2,\n",
    "            n_estimators=1000,\n",
    "            )\n",
    "\n",
    "model_best_4.fit(x_train, y_train)\n",
    "\n",
    "y_predict_train_4 = model_best_4.predict(x_train)\n",
    "y_predict_test_4 = model_best_4.predict(x_test)\n",
    "\n",
    "print(classification_report(y_predict_train_4, y_train))\n",
    "print(classification_report(y_predict_test_4, y_test))\n",
    "print(confusion_matrix(y_predict_test_4, y_test))"
   ]
  },
  {
   "cell_type": "markdown",
   "metadata": {},
   "source": [
    "Decision Tree algorithms also have certain undesireable properties. Mainly the have low bias, which is good, but tend to have high variance - which is *not* so good.\n",
    "\n",
    "Therefore, Random Forest algorithm is used to mitigate these problems."
   ]
  },
  {
   "cell_type": "markdown",
   "metadata": {},
   "source": [
    "## Boosting Based Algorithms"
   ]
  },
  {
   "cell_type": "markdown",
   "metadata": {},
   "source": [
    "The next generation of algorithms after Random Forests are based on Boosting, known as **Gradient Boosted Machines**"
   ]
  },
  {
   "cell_type": "markdown",
   "metadata": {},
   "source": [
    "The 3 types of Boosting algorithm widely used are as follows: \n",
    "\n",
    "1. **XGBoost**\n",
    "2. **CatBoost**\n",
    "3. **LightGBM**\n",
    "\n",
    "We will be implementing **XGBoost** for our project."
   ]
  },
  {
   "cell_type": "code",
   "execution_count": 36,
   "metadata": {},
   "outputs": [],
   "source": [
    "from xgboost import XGBClassifier"
   ]
  },
  {
   "cell_type": "code",
   "execution_count": 37,
   "metadata": {},
   "outputs": [
    {
     "name": "stdout",
     "output_type": "stream",
     "text": [
      "              precision    recall  f1-score   support\n",
      "\n",
      "           0       1.00      1.00      1.00       230\n",
      "           1       1.00      1.00      1.00       520\n",
      "\n",
      "    accuracy                           1.00       750\n",
      "   macro avg       1.00      1.00      1.00       750\n",
      "weighted avg       1.00      1.00      1.00       750\n",
      "\n",
      "              precision    recall  f1-score   support\n",
      "\n",
      "           0       0.49      0.50      0.49        68\n",
      "           1       0.81      0.80      0.81       182\n",
      "\n",
      "    accuracy                           0.72       250\n",
      "   macro avg       0.65      0.65      0.65       250\n",
      "weighted avg       0.72      0.72      0.72       250\n",
      "\n",
      "[[ 34  34]\n",
      " [ 36 146]]\n",
      "0.023048973083496092\n"
     ]
    }
   ],
   "source": [
    "xgb_mod = XGBClassifier() \n",
    "\n",
    "start = time()\n",
    "xgb_mod.fit(x_train, y_train)\n",
    "\n",
    "y_predict_train_5 = xgb_mod.predict(x_train)\n",
    "y_predict_test_5 = xgb_mod.predict(x_test)\n",
    "\n",
    "print(classification_report(y_predict_train_5, y_train))\n",
    "print(classification_report(y_predict_test_5, y_test))\n",
    "print(confusion_matrix(y_predict_test_5, y_test))\n",
    "print((time()-start)/60)"
   ]
  },
  {
   "cell_type": "markdown",
   "metadata": {},
   "source": [
    "## Model Comparison\n",
    "\n",
    "Let's compare the results of all the models we used for classifying loans.\n",
    "\n",
    "\n",
    "|Model         | Parameters |Precision|Recall|F1 score|\n",
    "|--------------|------------|---------|------|--------|\n",
    "|Decision Tree | Train      |1        |1     |1       |\n",
    "|              | Test       |0.63     |0.65  |0.64    |\n",
    "|Hyperparameter| Train      |0.73     |0.72  |0.73    |\n",
    "|              | Test       |0.70     |0.69  |0.69    |\n",
    "|Random Forrest| Train      |0.94     |0.93  |0.93    |\n",
    "|              | Test       |0.83     |0.74  |0.77    |\n",
    "|XGBoost       | Train      |1        |1     |1       |\n",
    "|              | Test       |0.72     |0.72  |0.72    |"
   ]
  }
 ],
 "metadata": {
  "kernelspec": {
   "display_name": "Python 3",
   "language": "python",
   "name": "python3"
  },
  "language_info": {
   "codemirror_mode": {
    "name": "ipython",
    "version": 3
   },
   "file_extension": ".py",
   "mimetype": "text/x-python",
   "name": "python",
   "nbconvert_exporter": "python",
   "pygments_lexer": "ipython3",
   "version": "3.8.3"
  }
 },
 "nbformat": 4,
 "nbformat_minor": 2
}
